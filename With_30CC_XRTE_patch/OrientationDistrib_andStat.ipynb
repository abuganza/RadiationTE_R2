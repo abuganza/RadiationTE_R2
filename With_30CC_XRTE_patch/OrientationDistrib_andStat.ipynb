{
 "cells": [
  {
   "cell_type": "code",
   "execution_count": 1,
   "id": "d8ddbbb9",
   "metadata": {},
   "outputs": [],
   "source": [
    "import math\n",
    "from numpy import genfromtxt\n",
    "import scipy\n",
    "from matplotlib import pyplot as plt\n",
    "import matplotlib\n",
    "from matplotlib import cm\n",
    "from scipy.optimize import Bounds\n",
    "from mpl_toolkits.mplot3d import Axes3D\n",
    "matplotlib.rc('font',family ='Arial',size=7)\n",
    "import pandas as pd\n",
    "import numpy as np\n",
    "from scipy.stats import kstest\n",
    "from scipy.stats import ks_2samp\n",
    "import random\n",
    "import seaborn as sns"
   ]
  },
  {
   "cell_type": "code",
   "execution_count": 2,
   "id": "214e697b",
   "metadata": {},
   "outputs": [],
   "source": [
    "## Read data from \n",
    "\n",
    "CTRLd = pd.read_csv('CTRL_OJ-Distribution-1.csv')\n",
    "XRTd = pd.read_csv('XRT_OJ-Distribution-1.csv')\n",
    "XRTTEd = pd.read_csv('XRTTE_OJ-Distribution-1.csv')\n"
   ]
  },
  {
   "cell_type": "code",
   "execution_count": 3,
   "id": "be661140",
   "metadata": {},
   "outputs": [],
   "source": [
    "\n",
    "CTRLSlice11=[]\n",
    "XRTSlice11=[]\n",
    "XRTTESlice11=[]\n",
    "\n",
    "for i in range(0, len(CTRLd.Slice1)):\n",
    "    CTRLSlice11.append(CTRLd.Slice1[i]/sum(CTRLd.Slice1))\n",
    "    \n",
    "for i in range(0, len(XRTd.Slice1)):\n",
    "    XRTSlice11.append(XRTd.Slice1[i]/sum(CTRLd.Slice1))\n",
    "    \n",
    "for i in range(0, len(XRTTEd.Slice1)):\n",
    "    XRTTESlice11.append(XRTTEd.Slice1[i]/sum(CTRLd.Slice1))"
   ]
  },
  {
   "cell_type": "code",
   "execution_count": 4,
   "id": "cae6007f",
   "metadata": {},
   "outputs": [
    {
     "name": "stdout",
     "output_type": "stream",
     "text": [
      "['CTRL', 'TE', 'XR', 'XRTE']\n"
     ]
    }
   ],
   "source": [
    "##Read data from files from Orientation distribution (OrientationJ, imageJ)\n",
    "\n",
    "listAll=os.listdir('Orient_wPenny')\n",
    "a=0\n",
    "for i in range(len(listAll)):\n",
    "    # print(listAll[i][-1])\n",
    "    if listAll[i][-1]=='e':\n",
    "        # print(i)\n",
    "        a=i\n",
    "listAll.pop(a)\n",
    "\n",
    "print(listAll)\n",
    "\n",
    "Direct3C={}\n",
    "Direct3XC={}\n",
    "Direct3XTP={}\n",
    "Direct3TP={}\n",
    "\n",
    "lol={'orient': [], 'slice': [], 'slicenorm': []}"
   ]
  },
  {
   "cell_type": "code",
   "execution_count": 5,
   "id": "c2911aeb",
   "metadata": {},
   "outputs": [],
   "source": [
    "c1=0\n",
    "c2=0\n",
    "c3=0\n",
    "c4=0\n",
    "\n",
    "for i in listAll:\n",
    "    # print(i)\n",
    "    patheach='/Users/lnunezal/Library/CloudStorage/OneDrive-purdue.edu/tepoleLab/images/Orient_wPenny/'+i\n",
    "    # print(patheach[-1])\n",
    "    if os.path.isdir(patheach) == True:\n",
    "        for j in os.listdir(patheach):\n",
    "            if j[-1]!='e':\n",
    "                # print(j)\n",
    "                specimenFilee=pd.read_csv(patheach+'/'+j)\n",
    "                specimenFile = specimenFilee.to_numpy()[:,0:]\n",
    "                orient=specimenFile[:,0]\n",
    "                slice1=specimenFile[:,1]\n",
    "                slice1norm=np.zeros((len(slice1)))\n",
    "                for k in range(0, len(slice1)):\n",
    "                    slice1norm[k]=slice1[k]/sum(slice1)\n",
    "                linee={'orient': orient, 'slice': slice1, 'slicenorm': slice1norm}\n",
    "                if i == 'CTRL':\n",
    "                    Direct3C[c1]=linee\n",
    "                    c1+=1\n",
    "                elif i == 'TE':\n",
    "                    Direct3TP[c2]=linee\n",
    "                    c2+=1\n",
    "                elif i == 'XR':\n",
    "                    Direct3XC[c3]=linee\n",
    "                    c3+=1\n",
    "                elif i == 'XRTE':\n",
    "                    Direct3XTP[c4]=linee\n",
    "                    c4+=1\n"
   ]
  },
  {
   "cell_type": "code",
   "execution_count": 6,
   "id": "001e06b4",
   "metadata": {},
   "outputs": [],
   "source": [
    "OrientProm3C=np.zeros((len(XRTTEd.Orientation)))\n",
    "OrientProm3XC=np.zeros((len(XRTTEd.Orientation)))\n",
    "OrientProm3XTP=np.zeros((len(XRTTEd.Orientation)))\n",
    "OrientProm3TP=np.zeros((len(XRTTEd.Orientation)))\n",
    "\n",
    "\n",
    "for i in range(180):\n",
    "    for j in range(len(Direct3C)):\n",
    "        # sum3C+=Direct3C[j]['slice'][i]\n",
    "        OrientProm3C[i]+=(1/len(Direct3C))*(Direct3C[j]['slice'][i])\n",
    "    for k in range(len(Direct3XC)):\n",
    "        OrientProm3XC[i]+=(1/len(Direct3XC))*(Direct3XC[k]['slice'][i])\n",
    "    for l in range(len(Direct3XTP)):\n",
    "        OrientProm3XTP[i]+=(1/len(Direct3XTP))*(Direct3XTP[l]['slice'][i])\n",
    "    for m in range(len(Direct3TP)):\n",
    "        OrientProm3TP[i]+=(1/len(Direct3TP))*(Direct3TP[m]['slice'][i])"
   ]
  },
  {
   "cell_type": "code",
   "execution_count": 7,
   "id": "5adedede",
   "metadata": {},
   "outputs": [
    {
     "data": {
      "image/png": "[encoded data removed]",
      "text/plain": [
       "<Figure size 504x136.8 with 4 Axes>"
      ]
     },
     "metadata": {
      "needs_background": "light"
     },
     "output_type": "display_data"
    }
   ],
   "source": [
    "## Plot all histograms of the same group\n",
    "\n",
    "fig,ax = plt.subplots(1,4,figsize = (7, 1.9), \n",
    "                      constrained_layout=True\n",
    "                     )\n",
    "\n",
    "# for i in range(len(Direct3C[0]['slice'])+len(Direct3XC[0]['slice'])+len(Direct3TP[0]['slice'])+len(Direct3XTP[0]['slice'])):\n",
    "for i in range(16):\n",
    "\n",
    "    if i < len(Direct3C):\n",
    "        ax[0].plot(Direct3C[i]['orient'],(1/np.sum(Direct3C[i]['slice']))*Direct3C[i]['slice'], color='gainsboro', linewidth=3)\n",
    "        ax[0].set_title(\"CTRL\", fontsize=12)\n",
    "        ax[0].set_ylabel(\"Frequency\",fontsize=10)\n",
    "        ax[0].set_xlabel(\"Angle [°]\", fontsize=10)\n",
    "\n",
    "    if i < len(Direct3XC):\n",
    "        ax[1].plot(Direct3XC[i]['orient'],(1/np.sum(Direct3XC[i]['slice']))*Direct3XC[i]['slice'], color='gainsboro', linewidth=3)\n",
    "        ax[1].set_title(\"XR\", fontsize=12)\n",
    "        #ax[1].set_ylabel(\"W\")\n",
    "        ax[1].set_xlabel(\"Angle [°]\", fontsize=10)\n",
    "\n",
    "    if i < len(Direct3XTP):\n",
    "        # print(np.sum(Direct3C[i]['orient']))\n",
    "        ax[2].plot(Direct3XTP[i]['orient']-7*np.ones(len(Direct3XTP[0]['orient'])),(1/np.sum(Direct3XTP[i]['slice']))*Direct3XTP[i]['slice'], color='gainsboro', linewidth=3)\n",
    "        ax[2].set_title(\"XRTE\", fontsize=12)\n",
    "        #ax[2].set_ylabel(\"W\")\n",
    "        ax[2].set_xlabel(\"Angle [°]\", fontsize=10)\n",
    "\n",
    "# print(Direct3C[2]['orient'])\n",
    "ax[0].plot(Direct3C[0]['orient'], (1/np.sum(OrientProm3C))*OrientProm3C,color='0',linewidth=2)\n",
    "ax[1].plot(Direct3XC[0]['orient'], (1/np.sum(OrientProm3XC))*OrientProm3XC,color='0',linewidth=2)\n",
    "ax[2].plot(Direct3XTP[0]['orient']-7*np.ones(len(Direct3XTP[0]['orient'])), (1/np.sum(OrientProm3XTP))*OrientProm3XTP,color='0',linewidth=2)\n",
    "# ax[3].plot(Direct3XTP[0]['orient'], OrientProm3XTP,color='0',linewidth=4)\n",
    "\n",
    "ax[0].set_ylim([0,0.0195])\n",
    "ax[0].set_xlim([-100,100])\n",
    "ax[1].set_ylim([0,0.0195])\n",
    "ax[1].set_xlim([-100,100])\n",
    "ax[1].get_yaxis().set_visible(False)\n",
    "ax[2].set_ylim([0,0.0195])\n",
    "ax[2].set_xlim([-100,100])\n",
    "ax[2].get_yaxis().set_visible(False)\n",
    "ax[3].set_ylim([0,0.0195])\n",
    "ax[3].set_xlim([-100,100])\n",
    "ax[3].get_yaxis().set_visible(False)\n",
    "\n",
    "## Plot the 4 average curves \n",
    "\n",
    "ax[3].plot(Direct3C[0]['orient'], OrientProm3C/np.sum(OrientProm3C),color='r',linewidth=2,label ='CTRL')\n",
    "ax[3].plot(Direct3XC[0]['orient'], OrientProm3XC/np.sum(OrientProm3XC),color='g',linewidth=2,label ='XR')\n",
    "# plt.plot(Direct3TP[0]['orient'], OrientProm3TP/np.sum(OrientProm3TP),color='b',linewidth=2,label ='TE')\n",
    "ax[3].plot(Direct3XTP[0]['orient']-7*np.ones(len(Direct3XTP[0]['orient'])), OrientProm3XTP/np.sum(OrientProm3XTP),color='0',linewidth=2,label ='XRTE')\n",
    "ax[3].set_xlabel(\"Angle [°]\", fontsize=10)\n",
    "ax[3].set_title(\"Combined\", fontsize=12)\n",
    "# ax[3].set_xticklabels([-100,0,100],fontsize = 15)\n",
    "\n",
    "plt.legend(fontsize=7,loc='upper left',frameon=False)\n",
    "\n",
    "# plt.savefig(\"Orient_distribLABELIN.png\",dpi=300)\n",
    "# plt.savefig(\"Orient_distribLABELIN_w_PennyXRTE.png\",dpi=300)\n",
    "\n",
    "plt.show()\n",
    "    \n",
    "\n",
    "       "
   ]
  },
  {
   "cell_type": "code",
   "execution_count": 8,
   "id": "2b27efc7",
   "metadata": {},
   "outputs": [
    {
     "name": "stdout",
     "output_type": "stream",
     "text": [
      "KS Test between Distribution 1 and Distribution 2:\n",
      "KS Statistic: 0.06532117961580712, P-value: 0.0\n",
      "\n",
      "KS Test between Distribution 1 and Distribution 3:\n",
      "KS Statistic: 0.04333293122663129, P-value: 0.0\n",
      "\n",
      "KS Test between Distribution 2 and Distribution 3:\n",
      "KS Statistic: 0.03670190286513775, P-value: 3.326999551301023e-269\n",
      "\n"
     ]
    }
   ],
   "source": [
    "# import numpy as np\n",
    "\n",
    "\n",
    "# Function to expand the values by their frequencies\n",
    "def expand_values(values, frequencies):\n",
    "    frequencies = frequencies.astype(int)  # Ensure frequencies are integers\n",
    "    expanded = np.repeat(values, frequencies)\n",
    "    return expanded\n",
    "\n",
    "# Expanding the sample data\n",
    "data1 = expand_values(Direct3C[0]['orient'], OrientProm3C)\n",
    "data2 = expand_values(Direct3XC[0]['orient'], OrientProm3XC)\n",
    "data3 = expand_values(Direct3XTP[0]['orient']-7*np.ones(len(Direct3XTP[0]['orient'])), OrientProm3XTP)\n",
    "\n",
    "# Function to perform KS test pairwise\n",
    "def pairwise_ks_test(data_list):\n",
    "    num_distributions = len(data_list)\n",
    "    results = {}\n",
    "    for i in range(num_distributions):\n",
    "        for j in range(i + 1, num_distributions):\n",
    "            d1 = data_list[i]\n",
    "            d2 = data_list[j]\n",
    "            ks_statistic, p_value = ks_2samp(d1, d2)\n",
    "            results[(i, j)] = {'ks_statistic': ks_statistic, 'p_value': p_value}\n",
    "    return results\n",
    "\n",
    "# List of distributions\n",
    "data_list = [data1, data2, data3]\n",
    "\n",
    "# Perform pairwise KS tests\n",
    "results = pairwise_ks_test(data_list)\n",
    "\n",
    "# Print the results\n",
    "for (i, j), result in results.items():\n",
    "    print(f\"KS Test between Distribution {i+1} and Distribution {j+1}:\")\n",
    "    print(f\"KS Statistic: {result['ks_statistic']}, P-value: {result['p_value']}\\n\")\n"
   ]
  }
 ],
 "metadata": {
  "kernelspec": {
   "display_name": "Python 3.9.12 ('base')",
   "language": "python",
   "name": "python3"
  },
  "language_info": {
   "codemirror_mode": {
    "name": "ipython",
    "version": 3
   },
   "file_extension": ".py",
   "mimetype": "text/x-python",
   "name": "python",
   "nbconvert_exporter": "python",
   "pygments_lexer": "ipython3",
   "version": "3.9.12"
  },
  "vscode": {
   "interpreter": {
    "hash": "ec2ab833d2e8db0d388733b4fdde26c56ae61b8db85b1e352ea3f3dad397d48f"
   }
  }
 },
 "nbformat": 4,
 "nbformat_minor": 5
}
