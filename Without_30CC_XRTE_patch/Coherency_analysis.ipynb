{
 "cells": [
  {
   "cell_type": "code",
   "execution_count": 1,
   "metadata": {},
   "outputs": [],
   "source": [
    "import math\n",
    "# from autograd import jacobian\n",
    "from numpy import genfromtxt\n",
    "import scipy\n",
    "from matplotlib import pyplot as plt\n",
    "import matplotlib\n",
    "from matplotlib import cm\n",
    "from scipy.optimize import Bounds\n",
    "from mpl_toolkits.mplot3d import Axes3D\n",
    "#matplotlib.rcParams['text.usetex'] = True\n",
    "matplotlib.rc('font',family ='Arial',size=7)\n",
    "#from palettable.colorbrewer.sequential import Blues_8\n",
    "#colors = Blues_8.mpl_colormap(np.linspace(0,6))\n",
    "import pandas as pd\n",
    "import numpy as np\n",
    "from scipy.stats import kstest\n",
    "from scipy.stats import ks_2samp\n",
    "import random\n",
    "# import numpyro\n",
    "# import numpyro.distributions as dist\n",
    "import seaborn as sns"
   ]
  },
  {
   "cell_type": "code",
   "execution_count": 2,
   "metadata": {},
   "outputs": [],
   "source": [
    "from pandas import *"
   ]
  },
  {
   "cell_type": "code",
   "execution_count": 3,
   "metadata": {},
   "outputs": [
    {
     "name": "stdout",
     "output_type": "stream",
     "text": [
      "read\n"
     ]
    }
   ],
   "source": [
    "Hist = ExcelFile('Coherency_values.xlsx')\n",
    "df = Hist.parse(Hist.sheet_names[0])\n",
    "HistD=df.to_dict()\n",
    "print (Hist.sheet_names[0])"
   ]
  },
  {
   "cell_type": "code",
   "execution_count": 4,
   "metadata": {},
   "outputs": [],
   "source": [
    "## initialize \n",
    "\n",
    "ctrl=[]\n",
    "# te=[]\n",
    "xrt=[]\n",
    "xrtte=[]\n",
    "\n",
    "# The following for loop is for plotting the coherency mean and \n",
    "# std error for all groups in the UPPER DERMIS (UD)\n",
    "# Uncomment the following and comment the next -for loop- \n",
    "\n",
    "for i in range(len(HistD['group'])):\n",
    "    if HistD['group'][i]=='ctrl' and HistD['loc'][i]==0 and HistD['ana'][i]==0 and HistD['sts'][i]==0 and HistD['noxrtePenny'][i]==0:\n",
    "        ctrl.append(HistD['coh_values'][i])\n",
    "    # elif HistD['group'][i]=='te':\n",
    "    #     te.append(HistD['coh_values'][i])\n",
    "    elif HistD['group'][i]=='xrte' and HistD['loc'][i]==0 and HistD['ana'][i]==0 and HistD['sts'][i]==0 and HistD['noxrtePenny'][i]==0:\n",
    "        xrtte.append(HistD['coh_values'][i])\n",
    "    elif HistD['group'][i]=='xr' and HistD['loc'][i]==0 and HistD['ana'][i]==0 and HistD['sts'][i]==0 and HistD['noxrtePenny'][i]==0:\n",
    "        xrt.append(HistD['coh_values'][i])\n",
    "\n",
    "# The following for loop is for plotting the coherency mean and \n",
    "# std error for all groups in the LOWER DERMIS (LD)\n",
    "# Uncomment the following and comment the previous -for loop-\n",
    "\n",
    "# for i in range(len(HistD['group'])):\n",
    "#     if HistD['group'][i]=='ctrl'and HistD['loc'][i]==1 and HistD['noxrtePenny'][i]==0:\n",
    "#         ctrl.append(HistD['coh_values'][i])\n",
    "#     # elif HistD['group'][i]=='te':\n",
    "#     #     te.append(HistD['coh_values'][i])\n",
    "#     elif HistD['group'][i]=='xrte'and HistD['loc'][i]==1 and HistD['noxrtePenny'][i]==0:\n",
    "#         xrtte.append(HistD['coh_values'][i])\n",
    "#     elif HistD['group'][i]=='xr'and HistD['loc'][i]==1 and HistD['noxrtePenny'][i]==0:\n",
    "#         xrt.append(HistD['coh_values'][i])\n"
   ]
  },
  {
   "cell_type": "code",
   "execution_count": 5,
   "metadata": {},
   "outputs": [],
   "source": [
    "# Define function for computing standad error\n",
    "def stde(data):\n",
    "    return np.std(data, ddof=1) / np.sqrt(np.size(data))"
   ]
  },
  {
   "cell_type": "code",
   "execution_count": 6,
   "metadata": {},
   "outputs": [
    {
     "data": {
      "image/png": "[encoded data removed]",
      "text/plain": [
       "<Figure size 216x216 with 1 Axes>"
      ]
     },
     "metadata": {
      "needs_background": "light"
     },
     "output_type": "display_data"
    }
   ],
   "source": [
    "#Compute mean and std error for each group CTRL, XR, and XRTE\n",
    "\n",
    "CTRLglX = [np.mean(ctrl)]\n",
    "CTRLeglX=[stde(ctrl)]\n",
    "# apexglX = [np.mean(te)]\n",
    "# apexeglX = [stde(te)]\n",
    "peripheryglX = [np.mean(xrt)]\n",
    "peripheryeglX = [stde(xrt)]\n",
    "middleglX = [np.mean(xrtte)]\n",
    "middleeglX = [stde(xrtte)]\n",
    "\n",
    "barWidth = 0.050\n",
    "locspace=0.06\n",
    "\n",
    "br11 = np.arange(len(CTRLglX))\n",
    "br22 = [x + locspace for x in br11]\n",
    "br33 = [x + locspace for x in br22]\n",
    "br44 = [x + locspace for x in br33]\n",
    "\n",
    "# plt.figure(figsize=(2.5,2.5))\n",
    "fig,axx = plt.subplots(1,1,figsize = (3, 3), \n",
    "                      constrained_layout=True\n",
    "                     )\n",
    "\n",
    "plt.bar(br11, CTRLglX, color ='1', width = barWidth, edgecolor ='0',\n",
    "                yerr = ([0],CTRLeglX),capsize=8,ecolor='0', label ='CTRL')\n",
    "# plt.bar(br22, apexglX, color ='0', width = barWidth, edgecolor ='0',\n",
    "#                 yerr = (apexeglX),capsize=4,ecolor='0', label ='TE')\n",
    "plt.bar(br22, peripheryglX, color ='1', width = barWidth, edgecolor ='0',\n",
    "               yerr = ([0],peripheryeglX),capsize=8,ecolor='0', label ='XR')\n",
    "plt.bar(br33, middleglX, color ='1', width = barWidth, edgecolor ='0',\n",
    "                yerr = ([0],middleeglX),capsize=8,ecolor='0', label ='XRTE')\n",
    "\n",
    "\n",
    "axx = plt.gca()\n",
    "# ax.legend(loc=1, fontsize=12)\n",
    "axx.spines['right'].set_visible(False)\n",
    "axx.spines['top'].set_visible(False)\n",
    "# ax.get_xaxis().set_visible(False)\n",
    "axx.set_ylim(0,0.5)\n",
    "axx.set_xticks([br11[0],br22[0],br33[0]],['CTRL','XR','XRTE'], fontsize=15)\n",
    "\n",
    "axx.set_ylabel('Coherency', fontsize = 15)\n",
    "plt.yticks(fontsize=12)\n",
    "# ax.legend(loc=2, fontsize=12)\n",
    "plt.savefig(\"coherencybars_loc0_noPenny.png\",dpi=300)"
   ]
  }
 ],
 "metadata": {
  "kernelspec": {
   "display_name": "Python 3.9.12 ('base')",
   "language": "python",
   "name": "python3"
  },
  "language_info": {
   "codemirror_mode": {
    "name": "ipython",
    "version": 3
   },
   "file_extension": ".py",
   "mimetype": "text/x-python",
   "name": "python",
   "nbconvert_exporter": "python",
   "pygments_lexer": "ipython3",
   "version": "3.9.12"
  },
  "orig_nbformat": 4,
  "vscode": {
   "interpreter": {
    "hash": "ec2ab833d2e8db0d388733b4fdde26c56ae61b8db85b1e352ea3f3dad397d48f"
   }
  }
 },
 "nbformat": 4,
 "nbformat_minor": 2
}
